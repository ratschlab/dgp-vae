{
 "cells": [
  {
   "cell_type": "code",
   "execution_count": 1,
   "metadata": {},
   "outputs": [],
   "source": [
    "import numpy as np\n",
    "import os\n",
    "\n",
    "np.random.seed(41)"
   ]
  },
  {
   "cell_type": "code",
   "execution_count": 20,
   "metadata": {},
   "outputs": [],
   "source": [
    "def sample_inits(N):\n",
    "    \"\"\"\n",
    "    Samples initial values of timeseries from state space of latent factors.\n",
    "\n",
    "    Args:\n",
    "        N:  Number of samples to take. (N_max = 737280)\n",
    "    \"\"\"\n",
    "    inits = np.zeros([N, 6], dtype=int)\n",
    "    # Sample from entire latent space\n",
    "    N_max = 737280\n",
    "    rand_idxs = np.random.choice(N_max, N, replace=False)\n",
    "    inits_idxs = np.unravel_index(rand_idxs, (1,3,6,40,32,32))\n",
    "\n",
    "    # Inits from all combinations, except y. Randomly sample y.\n",
    "#     all_but_y = np.array(np.meshgrid(np.arange(1), \n",
    "#                                      np.arange(3), \n",
    "#                                      np.arange(6), \n",
    "#                                      np.arange(40), \n",
    "#                                      np.arange(32))).T.reshape(-1,5)\n",
    "#     all_but_y_stack = np.concatenate((all_but_y, all_but_y, all_but_y), axis=0)\n",
    "#     y_sample = np.random.choice(np.arange(1), all_but_y_stack.shape[0])\n",
    "#     inits_test = np.hstack((all_but_y_stack, np.array([y_sample]).T))\n",
    "\n",
    "    # Choose inits from first N in latent space. Uncomment to apply.\n",
    "#     inits_idxs = np.unravel_index(range(N), (1,3,6,40,32,32))\n",
    "\n",
    "    for i in range(6):\n",
    "        inits[:,i] = inits_idxs[i]\n",
    "\n",
    "    # Additionally sample scale and shape. Uncomment to apply.\n",
    "    # shapes = np.random.choice((0,1,2), N)\n",
    "    # scales = np.random.choice((0,1,2,3,4,5), N)\n",
    "    # inits[:,1] = shapes\n",
    "    # inits[:,2] = scales\n",
    "\n",
    "    # Hardcoded: remove shape, scale variation. Uncomment to apply.\n",
    "    # inits[:,0:3] = 0\n",
    "\n",
    "    return inits"
   ]
  },
  {
   "cell_type": "code",
   "execution_count": 3,
   "metadata": {},
   "outputs": [],
   "source": [
    "def create_factors(inits, periods, length):\n",
    "    \"\"\"\n",
    "    Creates latent factor tensor to sample from.\n",
    "\n",
    "    Args:\n",
    "        inits:    [M] initial values of latent factors\n",
    "        periods:  [M] periods of latent factors\n",
    "        length: [N] length of resulting tensor\n",
    "    Output:\n",
    "        factors:[NxM] tensor of latent factors\n",
    "    \"\"\"\n",
    "\n",
    "    factors = np.zeros([length, periods.size], dtype=int)\n",
    "    amplitudes = [0, 2, 5, 39, 31, 31] # Hardcoded for DSprites for now\n",
    "    xaxis = np.arange(0,length,1)\n",
    "\n",
    "    for i in range(0,periods.size):\n",
    "        if amplitudes[i]:\n",
    "            c = np.arccos(1 - 2*inits[i]/amplitudes[i])\n",
    "        else:\n",
    "            c = 0\n",
    "        factors[:,i] = np.rint(-0.5*amplitudes[i] * np.cos(periods[i] * xaxis * 2*np.pi/length + c) + 0.5*amplitudes[i])\n",
    "\n",
    "    return factors"
   ]
  },
  {
   "cell_type": "code",
   "execution_count": 4,
   "metadata": {},
   "outputs": [],
   "source": [
    "def create_input(N, periods, length):\n",
    "    \"\"\"\n",
    "    Generates N dimensional input for GP-VAE model.\n",
    "\n",
    "    Args:\n",
    "        N:  Dimensionality of input\n",
    "        periods:  [M] periods of latent factors\n",
    "        length: [N] length of resulting tensor\n",
    "    \"\"\"\n",
    "#     dsp = dsprites.DSprites()\n",
    "    # Hardcoded for now\n",
    "    random_seed = 42\n",
    "    random_state = np.random.RandomState(random_seed)\n",
    "\n",
    "    inits = sample_inits(N)\n",
    "    print('Inits shape: {}'.format(inits.shape))\n",
    "\n",
    "    input = np.zeros([N, length, 64*64])\n",
    "\n",
    "    all_factors = np.empty([N,6,length])\n",
    "\n",
    "    for i in range(N):\n",
    "        factors = create_factors(inits[i,:], periods, length)\n",
    "        # print('FACTORS SHAPE {}'.format(factors.shape))\n",
    "        all_factors[i,:,:] = factors.transpose()\n",
    "#         dataset = np.squeeze(dsp.sample_observations_from_factors_no_color(factors=factors, random_state=random_state))\n",
    "        # print('DATASET SHAPE {}'.format(dataset.shape))\n",
    "#         dataset = dataset.reshape(dataset.shape[0], 64*64)\n",
    "        # print('DATASET RESHAPE SHAPE {}'.format(dataset.shape))\n",
    "#         input[i,:,:] = dataset\n",
    "\n",
    "    print(all_factors.shape)\n",
    "\n",
    "    return input.astype('float32'), all_factors"
   ]
  },
  {
   "cell_type": "code",
   "execution_count": 21,
   "metadata": {},
   "outputs": [
    {
     "name": "stdout",
     "output_type": "stream",
     "text": [
      "Inits shape: (69120, 6)\n",
      "(69120, 6, 10)\n"
     ]
    }
   ],
   "source": [
    "periods = np.array([0, 0, 0, 0.5, 1, 2]) # Should be integer multiples of 0.5\n",
    "length = 10\n",
    "\n",
    "_, all_factors = create_input(69120, periods, length)"
   ]
  },
  {
   "cell_type": "code",
   "execution_count": 22,
   "metadata": {},
   "outputs": [],
   "source": [
    "shape_all = all_factors.shape\n",
    "f_all = np.reshape(np.transpose(all_factors, (0,2,1)), (shape_all[0]*shape_all[2], shape_all[1]))\n",
    "f_all_flat = np.ravel_multi_index(np.transpose(f_all.astype(int)), (1,3,6,40,32,32), order='F')"
   ]
  },
  {
   "cell_type": "code",
   "execution_count": 23,
   "metadata": {},
   "outputs": [
    {
     "data": {
      "text/plain": [
       "(69120, 6, 10)"
      ]
     },
     "execution_count": 23,
     "metadata": {},
     "output_type": "execute_result"
    }
   ],
   "source": [
    "shape_all"
   ]
  },
  {
   "cell_type": "code",
   "execution_count": 24,
   "metadata": {},
   "outputs": [
    {
     "name": "stdout",
     "output_type": "stream",
     "text": [
      "(310060,)\n"
     ]
    }
   ],
   "source": [
    "f_all_unique = np.unique(f_all_flat)\n",
    "print(f_all_unique.shape)"
   ]
  },
  {
   "cell_type": "code",
   "execution_count": 43,
   "metadata": {},
   "outputs": [],
   "source": [
    "test_grid = np.array(np.meshgrid(np.arange(1), np.arange(3), np.arange(6), np.arange(40), np.arange(32))).T.reshape(-1,5)"
   ]
  },
  {
   "cell_type": "code",
   "execution_count": 71,
   "metadata": {},
   "outputs": [
    {
     "data": {
      "text/plain": [
       "(23040, 5)"
      ]
     },
     "execution_count": 71,
     "metadata": {},
     "output_type": "execute_result"
    }
   ],
   "source": [
    "test_grid.shape"
   ]
  },
  {
   "cell_type": "code",
   "execution_count": 122,
   "metadata": {},
   "outputs": [
    {
     "name": "stdout",
     "output_type": "stream",
     "text": [
      "(69120, 6)\n"
     ]
    }
   ],
   "source": [
    "inits = sample_inits(23040)\n",
    "print(inits.shape)"
   ]
  },
  {
   "cell_type": "code",
   "execution_count": 2,
   "metadata": {},
   "outputs": [],
   "source": [
    "data_path = '/cluster/work/grlab/projects/projects2020_disentangled_gpvae/data/dsprites/factors_100k_5k.npz'\n",
    "\n",
    "data_full = np.load(data_path)\n",
    "factors_train = data_full['factors_train']\n",
    "factors_test = data_full['factors_test']"
   ]
  },
  {
   "cell_type": "code",
   "execution_count": 3,
   "metadata": {},
   "outputs": [
    {
     "data": {
      "text/plain": [
       "(5000, 6, 10)"
      ]
     },
     "execution_count": 3,
     "metadata": {},
     "output_type": "execute_result"
    }
   ],
   "source": [
    "factors_test.shape"
   ]
  },
  {
   "cell_type": "code",
   "execution_count": 4,
   "metadata": {},
   "outputs": [],
   "source": [
    "# z_reshape = np.reshape(np.transpose(z, (0,2,1)),(z_shape[0]*z_shape[2],z_shape[1]))\n",
    "test_shape = factors_test.shape\n",
    "train_shape = factors_train.shape\n",
    "f_test = np.reshape(np.transpose(factors_test, (0,2,1)), (test_shape[0]*test_shape[2], test_shape[1]))\n",
    "f_train = np.reshape(np.transpose(factors_train, (0,2,1)), (train_shape[0]*train_shape[2], train_shape[1]))\n",
    "\n",
    "f_test_flat = np.ravel_multi_index(np.transpose(f_test.astype(int)), (1,3,6,40,32,32), order='F')\n",
    "f_train_flat = np.ravel_multi_index(np.transpose(f_train.astype(int)), (1,3,6,40,32,32), order='F')"
   ]
  },
  {
   "cell_type": "code",
   "execution_count": 5,
   "metadata": {},
   "outputs": [],
   "source": [
    "f_test_unique = np.unique(f_test_flat)\n",
    "f_train_unique = np.unique(f_train_flat)"
   ]
  },
  {
   "cell_type": "code",
   "execution_count": 7,
   "metadata": {},
   "outputs": [
    {
     "data": {
      "text/plain": [
       "(374662,)"
      ]
     },
     "execution_count": 7,
     "metadata": {},
     "output_type": "execute_result"
    }
   ],
   "source": [
    "f_train_unique.shape"
   ]
  },
  {
   "cell_type": "code",
   "execution_count": 22,
   "metadata": {},
   "outputs": [
    {
     "data": {
      "text/plain": [
       "array([1, 2])"
      ]
     },
     "execution_count": 22,
     "metadata": {},
     "output_type": "execute_result"
    }
   ],
   "source": [
    "np.ravel_multi_index(np.transpose(test), (1,3,6,40,32,32), order='F')"
   ]
  },
  {
   "cell_type": "code",
   "execution_count": null,
   "metadata": {},
   "outputs": [],
   "source": []
  }
 ],
 "metadata": {
  "kernelspec": {
   "display_name": "Python 3",
   "language": "python",
   "name": "python3"
  },
  "language_info": {
   "codemirror_mode": {
    "name": "ipython",
    "version": 3
   },
   "file_extension": ".py",
   "mimetype": "text/x-python",
   "name": "python",
   "nbconvert_exporter": "python",
   "pygments_lexer": "ipython3",
   "version": "3.6.10"
  }
 },
 "nbformat": 4,
 "nbformat_minor": 4
}
