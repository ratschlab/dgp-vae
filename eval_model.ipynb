{
 "cells": [
  {
   "cell_type": "code",
   "execution_count": 14,
   "metadata": {
    "ExecuteTime": {
     "end_time": "2020-03-25T10:18:12.284677Z",
     "start_time": "2020-03-25T10:18:12.280712Z"
    }
   },
   "outputs": [],
   "source": [
    "import numpy as np\n",
    "import os"
   ]
  },
  {
   "cell_type": "code",
   "execution_count": 25,
   "metadata": {
    "ExecuteTime": {
     "end_time": "2020-03-25T15:51:42.791341Z",
     "start_time": "2020-03-25T15:51:42.785635Z"
    }
   },
   "outputs": [],
   "source": [
    "def save_z_c(underlying_factors, latent_factors, filename):\n",
    "    \"\"\"\n",
    "    Save underlying factors and latent factors to calculate DCI score.\n",
    "    \"\"\"\n",
    "    z = underlying_factors\n",
    "    c = latent_factors\n",
    "    np.savez(filename, z=z, c=c)"
   ]
  },
  {
   "cell_type": "code",
   "execution_count": 9,
   "metadata": {
    "ExecuteTime": {
     "end_time": "2020-03-25T08:32:36.083604Z",
     "start_time": "2020-03-25T08:32:36.079357Z"
    }
   },
   "outputs": [],
   "source": [
    "model_path = 'models/200322_reproduce_dsprites_test1/'\n",
    "z_path = model_path + 'z_mean.npy'"
   ]
  },
  {
   "cell_type": "code",
   "execution_count": 18,
   "metadata": {
    "ExecuteTime": {
     "end_time": "2020-03-25T10:21:59.834430Z",
     "start_time": "2020-03-25T10:21:59.823790Z"
    }
   },
   "outputs": [],
   "source": [
    "factors_path = '/cluster/home/bings/GP-VAE/data/dsprites/factors_5000.npy'\n",
    "factors = np.load(factors_path)\n",
    "factors_test = factors[4000:]"
   ]
  },
  {
   "cell_type": "code",
   "execution_count": 11,
   "metadata": {
    "ExecuteTime": {
     "end_time": "2020-03-25T08:32:37.508794Z",
     "start_time": "2020-03-25T08:32:37.476465Z"
    }
   },
   "outputs": [],
   "source": [
    "z_mean = np.load(z_path)"
   ]
  },
  {
   "cell_type": "code",
   "execution_count": 23,
   "metadata": {
    "ExecuteTime": {
     "end_time": "2020-03-25T13:30:56.155337Z",
     "start_time": "2020-03-25T13:30:56.150725Z"
    }
   },
   "outputs": [
    {
     "name": "stdout",
     "output_type": "stream",
     "text": [
      "(1000, 256, 10)\n"
     ]
    }
   ],
   "source": [
    "print(z_mean.shape)"
   ]
  },
  {
   "cell_type": "code",
   "execution_count": 20,
   "metadata": {
    "ExecuteTime": {
     "end_time": "2020-03-25T10:22:07.132997Z",
     "start_time": "2020-03-25T10:22:07.128335Z"
    }
   },
   "outputs": [
    {
     "name": "stdout",
     "output_type": "stream",
     "text": [
      "(1000, 6, 10)\n"
     ]
    }
   ],
   "source": [
    " print(factors_test.shape)"
   ]
  },
  {
   "cell_type": "code",
   "execution_count": 27,
   "metadata": {
    "ExecuteTime": {
     "end_time": "2020-03-25T15:54:29.012926Z",
     "start_time": "2020-03-25T15:54:28.951878Z"
    }
   },
   "outputs": [],
   "source": [
    "save_z_c(factors_test, z_mean, 'z_c_5000')"
   ]
  },
  {
   "cell_type": "code",
   "execution_count": null,
   "metadata": {},
   "outputs": [],
   "source": []
  }
 ],
 "metadata": {
  "kernelspec": {
   "display_name": "Python 3",
   "language": "python",
   "name": "python3"
  },
  "language_info": {
   "codemirror_mode": {
    "name": "ipython",
    "version": 3
   },
   "file_extension": ".py",
   "mimetype": "text/x-python",
   "name": "python",
   "nbconvert_exporter": "python",
   "pygments_lexer": "ipython3",
   "version": "3.7.3"
  }
 },
 "nbformat": 4,
 "nbformat_minor": 4
}
